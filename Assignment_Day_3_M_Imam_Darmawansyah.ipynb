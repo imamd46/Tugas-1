{
  "cells": [
    {
      "cell_type": "markdown",
      "metadata": {
        "id": "view-in-github",
        "colab_type": "text"
      },
      "source": [
        "<a href=\"https://colab.research.google.com/github/imamd46/Tugas-1/blob/main/Assignment_Day_3_M_Imam_Darmawansyah.ipynb\" target=\"_parent\"><img src=\"https://colab.research.google.com/assets/colab-badge.svg\" alt=\"Open In Colab\"/></a>"
      ]
    },
    {
      "cell_type": "code",
      "execution_count": null,
      "metadata": {
        "colab": {
          "background_save": true,
          "base_uri": "https://localhost:8080/"
        },
        "id": "OTbXRNxI6jHO",
        "outputId": "fba693f2-e88a-4d18-e99a-a1d1edcbf3dd"
      },
      "outputs": [
        {
          "name": "stdout",
          "output_type": "stream",
          "text": [
            "Hai!\n",
            "Nama kamu siapa nih, tulis dibawah sini ya\n"
          ]
        }
      ],
      "source": [
        "print('Hai!')\n",
        "print('Nama kamu siapa nih, tulis dibawah sini ya')\n",
        "Nama = input(\"Nama:\")\n",
        "print('Hai', Nama)"
      ]
    },
    {
      "cell_type": "code",
      "execution_count": null,
      "metadata": {
        "id": "TSM3KBkj7lkf"
      },
      "outputs": [],
      "source": [
        "string1= 'Ayo masukkan panjang dan lebar nya dibawah sini'\n",
        "string2='dan ingat ya, panjang dan lebarnya dalam satuan meter ya'\n",
        "print(string1 + \" \" + string2)\n",
        "panjang = float (input('Panjang:'))\n",
        "lebar = float (input('Lebar:'))\n",
        "meter =(panjang * lebar)\n",
        "print ('Luas =' , meter, 'm2')\n",
        "hektar = (meter * 0.0001)\n",
        "print ('Luas =' , hektar, 'hektar')"
      ]
    },
    {
      "cell_type": "code",
      "execution_count": null,
      "metadata": {
        "colab": {
          "base_uri": "https://localhost:8080/",
          "height": 235
        },
        "id": "JQtRc-7-HdRL",
        "outputId": "7ff7e5e3-756f-45d3-84d2-c4e336ab732d"
      },
      "outputs": [
        {
          "name": "stdout",
          "output_type": "stream",
          "text": [
            "Nilai n =4\n"
          ]
        },
        {
          "ename": "TypeError",
          "evalue": "ignored",
          "output_type": "error",
          "traceback": [
            "\u001b[0;31m---------------------------------------------------------------------------\u001b[0m",
            "\u001b[0;31mTypeError\u001b[0m                                 Traceback (most recent call last)",
            "\u001b[0;32m<ipython-input-78-14ee86e93765>\u001b[0m in \u001b[0;36m<module>\u001b[0;34m()\u001b[0m\n\u001b[1;32m      1\u001b[0m \u001b[0;32mimport\u001b[0m \u001b[0mmath\u001b[0m\u001b[0;34m\u001b[0m\u001b[0;34m\u001b[0m\u001b[0m\n\u001b[1;32m      2\u001b[0m \u001b[0mn\u001b[0m \u001b[0;34m=\u001b[0m \u001b[0mfloat\u001b[0m \u001b[0;34m(\u001b[0m\u001b[0minput\u001b[0m\u001b[0;34m(\u001b[0m\u001b[0;34m'Nilai n ='\u001b[0m\u001b[0;34m)\u001b[0m\u001b[0;34m)\u001b[0m\u001b[0;34m\u001b[0m\u001b[0;34m\u001b[0m\u001b[0m\n\u001b[0;32m----> 3\u001b[0;31m \u001b[0mbaris\u001b[0m \u001b[0;34m=\u001b[0m \u001b[0;34m(\u001b[0m\u001b[0mn\u001b[0m \u001b[0;34m/\u001b[0m \u001b[0;36m2\u001b[0m \u001b[0;34m(\u001b[0m\u001b[0;36m2\u001b[0m \u001b[0;34m+\u001b[0m \u001b[0;34m(\u001b[0m\u001b[0mn\u001b[0m \u001b[0;34m-\u001b[0m \u001b[0;36m1\u001b[0m\u001b[0;34m)\u001b[0m \u001b[0;34m*\u001b[0m \u001b[0;36m1\u001b[0m\u001b[0;34m)\u001b[0m\u001b[0;34m)\u001b[0m\u001b[0;34m\u001b[0m\u001b[0;34m\u001b[0m\u001b[0m\n\u001b[0m\u001b[1;32m      4\u001b[0m \u001b[0mprint\u001b[0m \u001b[0;34m(\u001b[0m\u001b[0;34m'Jumlah dari n ='\u001b[0m\u001b[0;34m,\u001b[0m \u001b[0mbaris\u001b[0m\u001b[0;34m)\u001b[0m\u001b[0;34m\u001b[0m\u001b[0;34m\u001b[0m\u001b[0m\n",
            "\u001b[0;31mTypeError\u001b[0m: 'int' object is not callable"
          ]
        }
      ],
      "source": [
        "import math\n",
        "n = float (input('Nilai n ='))\n",
        "baris = (n / 2 (2 + (n - 1) * 1)) \n",
        "print ('Jumlah dari n =', baris)"
      ]
    },
    {
      "cell_type": "code",
      "execution_count": null,
      "metadata": {
        "id": "JQHqz_0yksqG"
      },
      "outputs": [],
      "source": [
        "alas = float (input('Alas:'))\n",
        "tinggi = float (input('Tinggi:'))\n",
        "meter =(alas * tinggi/2)\n",
        "print ('Luas =' , meter, 'm2')"
      ]
    },
    {
      "cell_type": "code",
      "execution_count": null,
      "metadata": {
        "id": "aF9se34FlRut"
      },
      "outputs": [],
      "source": [
        "import math\n",
        "sisi1 = float (input('Sisi 1:'))\n",
        "sisi2 = float (input('Sisi 2:'))\n",
        "sisi3 = float (input('Sisi 3:'))\n",
        "s =((sisi1 + sisi2 + sisi3) / 2)\n",
        "luas = (math.sqrt(s*(s-sisi1)*(s-sisi2)*(s-sisi3)))\n",
        "print ('Luas =' ,luas, 'm2')"
      ]
    },
    {
      "cell_type": "code",
      "execution_count": null,
      "metadata": {
        "id": "jn39keY-FmcO"
      },
      "outputs": [],
      "source": [
        "Magnitude= float(input('Magnitude ='))\n",
        "if Magnitude >= 10.0:\n",
        "   print(\"massive earthquake\")\n",
        "elif Magnitude > 7.9:\n",
        "    print(\"Great earthquake\")\n",
        "elif Magnitude > 6.9:\n",
        "    print(\"Major earthquake\")\n",
        "elif Magnitude > 5.9:\n",
        "    print(\"Strong earthquake\")\n",
        "elif Magnitude > 4.9:\n",
        "    print(\"Moderate earthquake\")\n",
        "elif Magnitude > 3.9:\n",
        "    print(\"Light earthquake\")\n",
        "elif Magnitude > 1.9:\n",
        "    print(\"Minor earthquake\")\n",
        "else:\n",
        "    print(\"Macro earthquake\")"
      ]
    },
    {
      "cell_type": "code",
      "execution_count": null,
      "metadata": {
        "id": "_I070hPZO2Rn",
        "colab": {
          "base_uri": "https://localhost:8080/",
          "height": 424
        },
        "outputId": "cbf2682d-4193-4177-9d87-f44f47cfa7ea"
      },
      "outputs": [
        {
          "output_type": "execute_result",
          "data": {
            "text/plain": [
              "    0.58705   5.79555\n",
              "0  -0.15098   3.53372\n",
              "1  -0.24805   3.22805\n",
              "2  -0.36056   2.87947\n",
              "3   0.09375   4.40297\n",
              "4  -0.25847   3.22351\n",
              "..      ...       ...\n",
              "94  0.57697   5.62490\n",
              "95  0.54242   5.50030\n",
              "96 -0.02820   3.96986\n",
              "97 -0.52083   2.46482\n",
              "98 -0.63998   2.24709\n",
              "\n",
              "[99 rows x 2 columns]"
            ],
            "text/html": [
              "\n",
              "  <div id=\"df-2deb39b1-b0c0-45f6-8700-18fcacf232e5\">\n",
              "    <div class=\"colab-df-container\">\n",
              "      <div>\n",
              "<style scoped>\n",
              "    .dataframe tbody tr th:only-of-type {\n",
              "        vertical-align: middle;\n",
              "    }\n",
              "\n",
              "    .dataframe tbody tr th {\n",
              "        vertical-align: top;\n",
              "    }\n",
              "\n",
              "    .dataframe thead th {\n",
              "        text-align: right;\n",
              "    }\n",
              "</style>\n",
              "<table border=\"1\" class=\"dataframe\">\n",
              "  <thead>\n",
              "    <tr style=\"text-align: right;\">\n",
              "      <th></th>\n",
              "      <th>0.58705</th>\n",
              "      <th>5.79555</th>\n",
              "    </tr>\n",
              "  </thead>\n",
              "  <tbody>\n",
              "    <tr>\n",
              "      <th>0</th>\n",
              "      <td>-0.15098</td>\n",
              "      <td>3.53372</td>\n",
              "    </tr>\n",
              "    <tr>\n",
              "      <th>1</th>\n",
              "      <td>-0.24805</td>\n",
              "      <td>3.22805</td>\n",
              "    </tr>\n",
              "    <tr>\n",
              "      <th>2</th>\n",
              "      <td>-0.36056</td>\n",
              "      <td>2.87947</td>\n",
              "    </tr>\n",
              "    <tr>\n",
              "      <th>3</th>\n",
              "      <td>0.09375</td>\n",
              "      <td>4.40297</td>\n",
              "    </tr>\n",
              "    <tr>\n",
              "      <th>4</th>\n",
              "      <td>-0.25847</td>\n",
              "      <td>3.22351</td>\n",
              "    </tr>\n",
              "    <tr>\n",
              "      <th>...</th>\n",
              "      <td>...</td>\n",
              "      <td>...</td>\n",
              "    </tr>\n",
              "    <tr>\n",
              "      <th>94</th>\n",
              "      <td>0.57697</td>\n",
              "      <td>5.62490</td>\n",
              "    </tr>\n",
              "    <tr>\n",
              "      <th>95</th>\n",
              "      <td>0.54242</td>\n",
              "      <td>5.50030</td>\n",
              "    </tr>\n",
              "    <tr>\n",
              "      <th>96</th>\n",
              "      <td>-0.02820</td>\n",
              "      <td>3.96986</td>\n",
              "    </tr>\n",
              "    <tr>\n",
              "      <th>97</th>\n",
              "      <td>-0.52083</td>\n",
              "      <td>2.46482</td>\n",
              "    </tr>\n",
              "    <tr>\n",
              "      <th>98</th>\n",
              "      <td>-0.63998</td>\n",
              "      <td>2.24709</td>\n",
              "    </tr>\n",
              "  </tbody>\n",
              "</table>\n",
              "<p>99 rows × 2 columns</p>\n",
              "</div>\n",
              "      <button class=\"colab-df-convert\" onclick=\"convertToInteractive('df-2deb39b1-b0c0-45f6-8700-18fcacf232e5')\"\n",
              "              title=\"Convert this dataframe to an interactive table.\"\n",
              "              style=\"display:none;\">\n",
              "        \n",
              "  <svg xmlns=\"http://www.w3.org/2000/svg\" height=\"24px\"viewBox=\"0 0 24 24\"\n",
              "       width=\"24px\">\n",
              "    <path d=\"M0 0h24v24H0V0z\" fill=\"none\"/>\n",
              "    <path d=\"M18.56 5.44l.94 2.06.94-2.06 2.06-.94-2.06-.94-.94-2.06-.94 2.06-2.06.94zm-11 1L8.5 8.5l.94-2.06 2.06-.94-2.06-.94L8.5 2.5l-.94 2.06-2.06.94zm10 10l.94 2.06.94-2.06 2.06-.94-2.06-.94-.94-2.06-.94 2.06-2.06.94z\"/><path d=\"M17.41 7.96l-1.37-1.37c-.4-.4-.92-.59-1.43-.59-.52 0-1.04.2-1.43.59L10.3 9.45l-7.72 7.72c-.78.78-.78 2.05 0 2.83L4 21.41c.39.39.9.59 1.41.59.51 0 1.02-.2 1.41-.59l7.78-7.78 2.81-2.81c.8-.78.8-2.07 0-2.86zM5.41 20L4 18.59l7.72-7.72 1.47 1.35L5.41 20z\"/>\n",
              "  </svg>\n",
              "      </button>\n",
              "      \n",
              "  <style>\n",
              "    .colab-df-container {\n",
              "      display:flex;\n",
              "      flex-wrap:wrap;\n",
              "      gap: 12px;\n",
              "    }\n",
              "\n",
              "    .colab-df-convert {\n",
              "      background-color: #E8F0FE;\n",
              "      border: none;\n",
              "      border-radius: 50%;\n",
              "      cursor: pointer;\n",
              "      display: none;\n",
              "      fill: #1967D2;\n",
              "      height: 32px;\n",
              "      padding: 0 0 0 0;\n",
              "      width: 32px;\n",
              "    }\n",
              "\n",
              "    .colab-df-convert:hover {\n",
              "      background-color: #E2EBFA;\n",
              "      box-shadow: 0px 1px 2px rgba(60, 64, 67, 0.3), 0px 1px 3px 1px rgba(60, 64, 67, 0.15);\n",
              "      fill: #174EA6;\n",
              "    }\n",
              "\n",
              "    [theme=dark] .colab-df-convert {\n",
              "      background-color: #3B4455;\n",
              "      fill: #D2E3FC;\n",
              "    }\n",
              "\n",
              "    [theme=dark] .colab-df-convert:hover {\n",
              "      background-color: #434B5C;\n",
              "      box-shadow: 0px 1px 3px 1px rgba(0, 0, 0, 0.15);\n",
              "      filter: drop-shadow(0px 1px 2px rgba(0, 0, 0, 0.3));\n",
              "      fill: #FFFFFF;\n",
              "    }\n",
              "  </style>\n",
              "\n",
              "      <script>\n",
              "        const buttonEl =\n",
              "          document.querySelector('#df-2deb39b1-b0c0-45f6-8700-18fcacf232e5 button.colab-df-convert');\n",
              "        buttonEl.style.display =\n",
              "          google.colab.kernel.accessAllowed ? 'block' : 'none';\n",
              "\n",
              "        async function convertToInteractive(key) {\n",
              "          const element = document.querySelector('#df-2deb39b1-b0c0-45f6-8700-18fcacf232e5');\n",
              "          const dataTable =\n",
              "            await google.colab.kernel.invokeFunction('convertToInteractive',\n",
              "                                                     [key], {});\n",
              "          if (!dataTable) return;\n",
              "\n",
              "          const docLinkHtml = 'Like what you see? Visit the ' +\n",
              "            '<a target=\"_blank\" href=https://colab.research.google.com/notebooks/data_table.ipynb>data table notebook</a>'\n",
              "            + ' to learn more about interactive tables.';\n",
              "          element.innerHTML = '';\n",
              "          dataTable['output_type'] = 'display_data';\n",
              "          await google.colab.output.renderOutput(dataTable, element);\n",
              "          const docLink = document.createElement('div');\n",
              "          docLink.innerHTML = docLinkHtml;\n",
              "          element.appendChild(docLink);\n",
              "        }\n",
              "      </script>\n",
              "    </div>\n",
              "  </div>\n",
              "  "
            ]
          },
          "metadata": {},
          "execution_count": 5
        }
      ],
      "source": [
        "import pandas as pd\n",
        "dfl = pd.read_csv('https://raw.githubusercontent.com/hadimaster65555/dataset_for_teaching/main/dataset/linear_regression_simulation_data/linear-regression.csv')\n",
        "dfl"
      ]
    },
    {
      "cell_type": "code",
      "execution_count": null,
      "metadata": {
        "id": "lI5OLK5vp-sT"
      },
      "outputs": [],
      "source": [
        "dfl.describe()"
      ]
    },
    {
      "cell_type": "code",
      "execution_count": null,
      "metadata": {
        "id": "NkFNBfw5qL7-"
      },
      "outputs": [],
      "source": [
        "import numpy as np\n",
        "import sklearn.model_selection as ms\n",
        "columns = dfl[['0.58705']]\n",
        "rows = dfl[[' 5.79555']]\n",
        "X_train, X_test, y_train, y_test = ms.train_test_split(columns, rows, test_size=0.2, random_state=0)\n",
        "print(X_train.size, X_test.size)"
      ]
    },
    {
      "cell_type": "code",
      "execution_count": null,
      "metadata": {
        "id": "u6V43lj8rNee"
      },
      "outputs": [],
      "source": [
        "list(dfl)"
      ]
    },
    {
      "cell_type": "code",
      "execution_count": null,
      "metadata": {
        "id": "dVSsz70hRViE",
        "colab": {
          "base_uri": "https://localhost:8080/",
          "height": 295
        },
        "outputId": "026cd30e-633b-4855-b5cb-e25477881d9a"
      },
      "outputs": [
        {
          "output_type": "display_data",
          "data": {
            "text/plain": [
              "<Figure size 432x288 with 1 Axes>"
            ],
            "image/png": "[encoded data removed]"
          },
          "metadata": {
            "needs_background": "light"
          }
        }
      ],
      "source": [
        "import pandas as pd\n",
        "import numpy as np\n",
        "import sklearn.model_selection as ms\n",
        "import matplotlib.pyplot as plt\n",
        "dfl = pd.read_csv('https://raw.githubusercontent.com/hadimaster65555/dataset_for_teaching/main/dataset/linear_regression_simulation_data/linear-regression.csv')\n",
        "columns = dfl[['0.58705']]\n",
        "rows = dfl[[' 5.79555']]\n",
        "X_train, X_test, y_train, y_test = ms.train_test_split(columns, rows, test_size=0.2, random_state=0)\n",
        "plt.scatter(X_train, y_train, edgecolors='r')\n",
        "plt.xlabel('0.58705')\n",
        "plt.ylabel(' 5.79555')\n",
        "plt.title('Data Random')\n",
        "plt.show()"
      ]
    },
    {
      "cell_type": "code",
      "execution_count": null,
      "metadata": {
        "colab": {
          "base_uri": "https://localhost:8080/"
        },
        "id": "NgVVzWassOnK",
        "outputId": "966e5b10-9ed8-49f1-c42d-a434fc556e44"
      },
      "outputs": [
        {
          "name": "stdout",
          "output_type": "stream",
          "text": [
            "#jumlah dataset saya99\n"
          ]
        }
      ],
      "source": [
        "print(\"#jumlah dataset saya\" +str(len(dfl.index)))"
      ]
    },
    {
      "cell_type": "code",
      "execution_count": null,
      "metadata": {
        "id": "_qJQUu3x3c5v",
        "colab": {
          "base_uri": "https://localhost:8080/"
        },
        "outputId": "20426966-dc37-44db-c539-3da01ed232d4"
      },
      "outputs": [
        {
          "output_type": "execute_result",
          "data": {
            "text/plain": [
              "(8, 1)"
            ]
          },
          "metadata": {},
          "execution_count": 7
        }
      ],
      "source": [
        "A = np.vstack (' 5.79555')\n",
        "A.shape"
      ]
    },
    {
      "cell_type": "code",
      "source": [
        "B = '0.58705'"
      ],
      "metadata": {
        "id": "Vma8gZBgn5-h"
      },
      "execution_count": null,
      "outputs": []
    }
  ],
  "metadata": {
    "colab": {
      "collapsed_sections": [],
      "name": "Assignment Day 3 - M. Imam Darmawansyah",
      "provenance": [],
      "toc_visible": true,
      "authorship_tag": "ABX9TyMkSGsFcs9gXh04zAQbeyk6",
      "include_colab_link": true
    },
    "kernelspec": {
      "display_name": "Python 3",
      "name": "python3"
    },
    "language_info": {
      "name": "python"
    }
  },
  "nbformat": 4,
  "nbformat_minor": 0
}